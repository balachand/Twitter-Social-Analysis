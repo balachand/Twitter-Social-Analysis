{
 "cells": [
  {
   "cell_type": "code",
   "execution_count": 116,
   "metadata": {
    "collapsed": true
   },
   "outputs": [],
   "source": [
    "import tweepy\n",
    "import time\n",
    "import pandas as pd\n",
    "import sys\n",
    "from tweepy import OAuthHandler\n",
    "import json"
   ]
  },
  {
   "cell_type": "code",
   "execution_count": 117,
   "metadata": {
    "collapsed": true
   },
   "outputs": [],
   "source": [
    "with open('C:\\\\Bala\\\\DataScience\\\\Twitter\\\\config.json') as t_file:\n",
    "    json = json.load(t_file)\n",
    "    \n",
    "## TODO : ReformedBroker"
   ]
  },
  {
   "cell_type": "code",
   "execution_count": 118,
   "metadata": {},
   "outputs": [
    {
     "name": "stdout",
     "output_type": "stream",
     "text": [
      "We successfully logged in\n"
     ]
    },
    {
     "data": {
      "text/plain": [
       "['ReformedBroker']"
      ]
     },
     "execution_count": 118,
     "metadata": {},
     "output_type": "execute_result"
    }
   ],
   "source": [
    "consumer_key = json['twitter']['consumer_key']\n",
    "consumer_secret = json['twitter']['consumer_secret']\n",
    "access_token_key=json['twitter']['access_token_key']\n",
    "access_token_secret=json['twitter']['access_token_secret']\n",
    "\n",
    "auth = OAuthHandler(consumer_key, consumer_secret)\n",
    "auth.set_access_token(access_token,access_secret)\n",
    "\n",
    "api = tweepy.API(auth,wait_on_rate_limit=True,wait_on_rate_limit_notify=True,compression=True)\n",
    "\n",
    "if(api.verify_credentials):\n",
    "    print('We successfully logged in')\n",
    "    \n",
    "json['accounts']"
   ]
  },
  {
   "cell_type": "code",
   "execution_count": 119,
   "metadata": {
    "collapsed": true
   },
   "outputs": [],
   "source": [
    "def lookup_user_list(user_id_list,api):\n",
    "    all_users = []\n",
    "    users_count = len(user_id_list)\n",
    "    while True:\n",
    "        try:\n",
    "            for i in range(users_count%100 + 1):\n",
    "                print(i)\n",
    "                all_users.extend(api.lookup_users(user_ids=user_id_list[i*100 : min((i+1)*100,users_count)]))        \n",
    "        except tweepy.TweepError(e):\n",
    "            print('Something went wrong... ')\n",
    "            time.sleep(60*15)\n",
    "        return all_users"
   ]
  },
  {
   "cell_type": "code",
   "execution_count": null,
   "metadata": {},
   "outputs": [
    {
     "name": "stdout",
     "output_type": "stream",
     "text": [
      "Fetching followers for ReformedBroker\n",
      "0\n",
      "1\n",
      "2\n",
      "3\n",
      "4\n",
      "5\n",
      "6\n",
      "7\n",
      "8\n",
      "9\n",
      "10\n",
      "11\n",
      "12\n",
      "13\n",
      "14\n",
      "Failed to send request: ('Connection aborted.', OSError(\"(10054, 'WSAECONNRESET')\",))\n",
      "15\n"
     ]
    }
   ],
   "source": [
    "for name in json['accounts']:\n",
    "    print('Fetching followers for ' + name)\n",
    "    ids = []\n",
    "    i = 0\n",
    "    backoff_counter = 1\n",
    "    while True:\n",
    "        try:            \n",
    "            for page in tweepy.Cursor(api.followers_ids,screen_name=name,count=5000).pages(): \n",
    "                if(i >= 14):\n",
    "                    time.sleep(60*15) \n",
    "                ids.extend(page)\n",
    "                print(i)\n",
    "                i+=1\n",
    "                time.sleep(60)\n",
    "            break\n",
    "        except tweepy.TweepError as e:\n",
    "            print(e.reason)\n",
    "            time.sleep(60*backoff_counter)\n",
    "            backoff_counter += 1\n",
    "            continue\n",
    "            \n",
    "    print(len(ids))  \n",
    "    results = lookup_user_list(ids,api)\n",
    "    all_users = [{'id': user.id,\n",
    "             'Name': user.name,\n",
    "             'Statuses Count': user.statuses_count,\n",
    "             'Friends Count': user.friends_count,\n",
    "             'Screen Name': user.screen_name,\n",
    "             'Followers Count': user.followers_count,\n",
    "             'Location': user.location,\n",
    "             'Language': user.lang,\n",
    "             'Created at': user.created_at,\n",
    "             'Time zone': user.time_zone,\n",
    "             'Geo enable': user.geo_enabled,\n",
    "             'Description': user.description}\n",
    "             for user in results]\n",
    "    df = pd.DataFrame(all_users)\n",
    "    df.to_csv('C:\\\\Bala\\\\DataScience\\\\Twitter\\\\Followers-'+name+'.csv', index=False, encoding='utf-8')\n"
   ]
  },
  {
   "cell_type": "code",
   "execution_count": null,
   "metadata": {
    "collapsed": true
   },
   "outputs": [],
   "source": []
  },
  {
   "cell_type": "code",
   "execution_count": null,
   "metadata": {
    "collapsed": true
   },
   "outputs": [],
   "source": []
  }
 ],
 "metadata": {
  "kernelspec": {
   "display_name": "Python 3",
   "language": "python",
   "name": "python3"
  }
 },
 "nbformat": 4,
 "nbformat_minor": 2
}
